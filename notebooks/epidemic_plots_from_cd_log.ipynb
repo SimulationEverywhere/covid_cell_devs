{
 "cells": [
  {
   "cell_type": "markdown",
   "metadata": {
    "colab_type": "text",
    "id": "AscwXYIim18c"
   },
   "source": [
    "## Log parser"
   ]
  },
  {
   "cell_type": "code",
   "execution_count": 1,
   "metadata": {
    "colab": {},
    "colab_type": "code",
    "id": "2OZLLlhrpQU6"
   },
   "outputs": [],
   "source": [
    "import re\n",
    "from collections import defaultdict"
   ]
  },
  {
   "cell_type": "code",
   "execution_count": 2,
   "metadata": {
    "colab": {},
    "colab_type": "code",
    "id": "rq5DTRC6kFH1"
   },
   "outputs": [],
   "source": [
    "log_filename = \"covid_store.log\"\n",
    "dim = 64, 100\n",
    "patt_out_line = \"[0-9]+ / . / . / (?P<time>[0-9:]+) / [a-zA-Z0-9]+\\((?P<x>[0-9]+),(?P<y>[0-9]+)\\)\\([0-9]+\\) / out / +(?P<state>[0-9.-]+) / ([a-zA-Z0-9]+)\\([0-9]+\\)\""
   ]
  },
  {
   "cell_type": "code",
   "execution_count": 3,
   "metadata": {
    "colab": {},
    "colab_type": "code",
    "id": "8kBwi7m9wOhw"
   },
   "outputs": [],
   "source": [
    "ID_SUSCEPTIBLE = 0\n",
    "ID_INFECTED = 1\n",
    "ID_SICK = 8\n",
    "ID_RECOVERED = 16\n",
    "ID_DEAD = -1\n",
    "ID_WALL = -10"
   ]
  },
  {
   "cell_type": "code",
   "execution_count": 4,
   "metadata": {
    "colab": {},
    "colab_type": "code",
    "id": "HGuAciLbtH-U"
   },
   "outputs": [],
   "source": [
    "def time_str_to_ts(time_str):\n",
    "  patt_time = \"([0-9]{2}):([0-9]{2}):([0-9]{2}):([0-9]{3})(?::[0-9]*)?\"\n",
    "  match = re.match(patt_time, time_str)\n",
    "  if not match:\n",
    "    raise RuntimeError(\"Error converting simulation time\")\n",
    "  tu = list(map(int, match.groups()))\n",
    "  return tu[3] + tu[2]*1000 + tu[1]*60000 + tu[0]*3600000\n",
    "\n",
    "def dict_to_states_row(states_dict):\n",
    "  row = []\n",
    "  for state in [ID_SUSCEPTIBLE, ID_INFECTED, ID_SICK, ID_RECOVERED, ID_DEAD, ID_WALL]:\n",
    "    row.append(states_dict[state] if state in states_dict else 0)\n",
    "  return row\n"
   ]
  },
  {
   "cell_type": "code",
   "execution_count": 5,
   "metadata": {
    "colab": {},
    "colab_type": "code",
    "id": "uG32B6bHpEnJ"
   },
   "outputs": [],
   "source": [
    "state_count = defaultdict(int)\n",
    "df_rows = []\n",
    "curr_states = [[None] * dim[1] for _ in range(dim[0])]"
   ]
  },
  {
   "cell_type": "code",
   "execution_count": 6,
   "metadata": {
    "colab": {},
    "colab_type": "code",
    "id": "aQGkOXqsoa6Z"
   },
   "outputs": [],
   "source": [
    "curr_time = None\n",
    "with open(log_filename, \"r\") as log_file:\n",
    "  for line in log_file:\n",
    "    line = line.strip()\n",
    "    match = re.match(patt_out_line, line)\n",
    "    if not match:\n",
    "      continue\n",
    "    if curr_time is None:\n",
    "      curr_time = match.group(\"time\")\n",
    "    elif curr_time != match.group(\"time\"):\n",
    "      #print(\"Changed to \" + match.group(\"time\"))\n",
    "\n",
    "      row = [time_str_to_ts(curr_time)] + dict_to_states_row(dict(state_count.items()))\n",
    "      df_rows.append(row)\n",
    "\n",
    "      curr_time = match.group(\"time\")\n",
    "\n",
    "    x = int(match.group(\"x\"))\n",
    "    y = int(match.group(\"y\"))\n",
    "    \n",
    "    if not curr_states[x][y] is None:\n",
    "      state_count[curr_states[x][y]] -= 1\n",
    "\n",
    "    curr_states[x][y] = int(float(match.group(\"state\")))\n",
    "    state_count[int(float(match.group(\"state\")))] += 1"
   ]
  },
  {
   "cell_type": "code",
   "execution_count": 7,
   "metadata": {
    "colab": {
     "base_uri": "https://localhost:8080/",
     "height": 156
    },
    "colab_type": "code",
    "executionInfo": {
     "elapsed": 917,
     "status": "ok",
     "timestamp": 1587157140815,
     "user": {
      "displayName": "Kevin Henares Vilaboa",
      "photoUrl": "",
      "userId": "08205634922900729001"
     },
     "user_tz": 240
    },
    "id": "dxNuBdz8ouyG",
    "outputId": "855b385e-1eff-48f1-e85a-738ad790e3a0"
   },
   "outputs": [
    {
     "data": {
      "text/plain": [
       "[[0, 4206, 3, 0, 0, 0, 2191],\n",
       " [1, 4199, 10, 0, 0, 0, 2191],\n",
       " [2, 4188, 21, 0, 0, 0, 2191],\n",
       " [3, 4181, 28, 0, 0, 0, 2191],\n",
       " [4, 4177, 32, 0, 0, 0, 2191],\n",
       " [5, 4174, 35, 0, 0, 0, 2191],\n",
       " [7, 4174, 32, 3, 0, 0, 2191],\n",
       " [8, 4174, 25, 7, 0, 1, 2191]]"
      ]
     },
     "execution_count": 7,
     "metadata": {},
     "output_type": "execute_result"
    }
   ],
   "source": [
    "df_rows[:8]"
   ]
  },
  {
   "cell_type": "markdown",
   "metadata": {
    "colab_type": "text",
    "id": "J30OnTRGyB19"
   },
   "source": [
    "## Dataframe creation and visualization"
   ]
  },
  {
   "cell_type": "code",
   "execution_count": 8,
   "metadata": {
    "colab": {},
    "colab_type": "code",
    "id": "WuysSoDOsQug"
   },
   "outputs": [],
   "source": [
    "import pandas as pd\n",
    "import numpy as np\n",
    "import matplotlib.pyplot as plt"
   ]
  },
  {
   "cell_type": "code",
   "execution_count": 9,
   "metadata": {
    "colab": {
     "base_uri": "https://localhost:8080/",
     "height": 238
    },
    "colab_type": "code",
    "executionInfo": {
     "elapsed": 604,
     "status": "ok",
     "timestamp": 1587157143030,
     "user": {
      "displayName": "Kevin Henares Vilaboa",
      "photoUrl": "",
      "userId": "08205634922900729001"
     },
     "user_tz": 240
    },
    "id": "261dyFX0xXzm",
    "outputId": "8f86212b-2cf3-4e59-bfe3-7bbb68b668e5"
   },
   "outputs": [
    {
     "data": {
      "text/html": [
       "<div>\n",
       "<style scoped>\n",
       "    .dataframe tbody tr th:only-of-type {\n",
       "        vertical-align: middle;\n",
       "    }\n",
       "\n",
       "    .dataframe tbody tr th {\n",
       "        vertical-align: top;\n",
       "    }\n",
       "\n",
       "    .dataframe thead th {\n",
       "        text-align: right;\n",
       "    }\n",
       "</style>\n",
       "<table border=\"1\" class=\"dataframe\">\n",
       "  <thead>\n",
       "    <tr style=\"text-align: right;\">\n",
       "      <th></th>\n",
       "      <th>susceptible</th>\n",
       "      <th>infected</th>\n",
       "      <th>sick</th>\n",
       "      <th>recovered</th>\n",
       "      <th>dead</th>\n",
       "      <th>walls</th>\n",
       "    </tr>\n",
       "    <tr>\n",
       "      <th>time</th>\n",
       "      <th></th>\n",
       "      <th></th>\n",
       "      <th></th>\n",
       "      <th></th>\n",
       "      <th></th>\n",
       "      <th></th>\n",
       "    </tr>\n",
       "  </thead>\n",
       "  <tbody>\n",
       "    <tr>\n",
       "      <td>0</td>\n",
       "      <td>4206</td>\n",
       "      <td>3</td>\n",
       "      <td>0</td>\n",
       "      <td>0</td>\n",
       "      <td>0</td>\n",
       "      <td>2191</td>\n",
       "    </tr>\n",
       "    <tr>\n",
       "      <td>1</td>\n",
       "      <td>4199</td>\n",
       "      <td>10</td>\n",
       "      <td>0</td>\n",
       "      <td>0</td>\n",
       "      <td>0</td>\n",
       "      <td>2191</td>\n",
       "    </tr>\n",
       "    <tr>\n",
       "      <td>2</td>\n",
       "      <td>4188</td>\n",
       "      <td>21</td>\n",
       "      <td>0</td>\n",
       "      <td>0</td>\n",
       "      <td>0</td>\n",
       "      <td>2191</td>\n",
       "    </tr>\n",
       "    <tr>\n",
       "      <td>3</td>\n",
       "      <td>4181</td>\n",
       "      <td>28</td>\n",
       "      <td>0</td>\n",
       "      <td>0</td>\n",
       "      <td>0</td>\n",
       "      <td>2191</td>\n",
       "    </tr>\n",
       "    <tr>\n",
       "      <td>4</td>\n",
       "      <td>4177</td>\n",
       "      <td>32</td>\n",
       "      <td>0</td>\n",
       "      <td>0</td>\n",
       "      <td>0</td>\n",
       "      <td>2191</td>\n",
       "    </tr>\n",
       "  </tbody>\n",
       "</table>\n",
       "</div>"
      ],
      "text/plain": [
       "      susceptible  infected  sick  recovered  dead  walls\n",
       "time                                                     \n",
       "0            4206         3     0          0     0   2191\n",
       "1            4199        10     0          0     0   2191\n",
       "2            4188        21     0          0     0   2191\n",
       "3            4181        28     0          0     0   2191\n",
       "4            4177        32     0          0     0   2191"
      ]
     },
     "execution_count": 9,
     "metadata": {},
     "output_type": "execute_result"
    }
   ],
   "source": [
    "columns = [\"time\", \"susceptible\", \"infected\", \"sick\", \"recovered\", \"dead\", \"walls\"]\n",
    "df = pd.DataFrame(df_rows, columns=columns)\n",
    "df = df.set_index(\"time\")\n",
    "df.head()"
   ]
  },
  {
   "cell_type": "code",
   "execution_count": 10,
   "metadata": {
    "colab": {
     "base_uri": "https://localhost:8080/",
     "height": 34
    },
    "colab_type": "code",
    "executionInfo": {
     "elapsed": 629,
     "status": "ok",
     "timestamp": 1587157143783,
     "user": {
      "displayName": "Kevin Henares Vilaboa",
      "photoUrl": "",
      "userId": "08205634922900729001"
     },
     "user_tz": 240
    },
    "id": "syBuT1VS0RIG",
    "outputId": "4ea0eabb-4850-4258-af30-7de297bdb0c9"
   },
   "outputs": [
    {
     "name": "stdout",
     "output_type": "stream",
     "text": [
      "Total cells: 6400, population: 4209\n"
     ]
    }
   ],
   "source": [
    "total_cells = sum(df.loc[0,:])\n",
    "population = total_cells - df.loc[0,:][\"walls\"]\n",
    "print(\"Total cells: %d, population: %d\" % (total_cells, population)) "
   ]
  },
  {
   "cell_type": "code",
   "execution_count": 11,
   "metadata": {
    "colab": {
     "base_uri": "https://localhost:8080/",
     "height": 238
    },
    "colab_type": "code",
    "executionInfo": {
     "elapsed": 384,
     "status": "ok",
     "timestamp": 1587157144054,
     "user": {
      "displayName": "Kevin Henares Vilaboa",
      "photoUrl": "",
      "userId": "08205634922900729001"
     },
     "user_tz": 240
    },
    "id": "AEtcFLV10pkP",
    "outputId": "a27c887a-1cbf-4e98-f6db-149d80723bc0"
   },
   "outputs": [
    {
     "data": {
      "text/html": [
       "<div>\n",
       "<style scoped>\n",
       "    .dataframe tbody tr th:only-of-type {\n",
       "        vertical-align: middle;\n",
       "    }\n",
       "\n",
       "    .dataframe tbody tr th {\n",
       "        vertical-align: top;\n",
       "    }\n",
       "\n",
       "    .dataframe thead th {\n",
       "        text-align: right;\n",
       "    }\n",
       "</style>\n",
       "<table border=\"1\" class=\"dataframe\">\n",
       "  <thead>\n",
       "    <tr style=\"text-align: right;\">\n",
       "      <th></th>\n",
       "      <th>susceptible</th>\n",
       "      <th>infected</th>\n",
       "      <th>sick</th>\n",
       "      <th>recovered</th>\n",
       "      <th>dead</th>\n",
       "    </tr>\n",
       "    <tr>\n",
       "      <th>time</th>\n",
       "      <th></th>\n",
       "      <th></th>\n",
       "      <th></th>\n",
       "      <th></th>\n",
       "      <th></th>\n",
       "    </tr>\n",
       "  </thead>\n",
       "  <tbody>\n",
       "    <tr>\n",
       "      <td>0</td>\n",
       "      <td>0.999287</td>\n",
       "      <td>0.000713</td>\n",
       "      <td>0.0</td>\n",
       "      <td>0.0</td>\n",
       "      <td>0.0</td>\n",
       "    </tr>\n",
       "    <tr>\n",
       "      <td>1</td>\n",
       "      <td>0.997624</td>\n",
       "      <td>0.002376</td>\n",
       "      <td>0.0</td>\n",
       "      <td>0.0</td>\n",
       "      <td>0.0</td>\n",
       "    </tr>\n",
       "    <tr>\n",
       "      <td>2</td>\n",
       "      <td>0.995011</td>\n",
       "      <td>0.004989</td>\n",
       "      <td>0.0</td>\n",
       "      <td>0.0</td>\n",
       "      <td>0.0</td>\n",
       "    </tr>\n",
       "    <tr>\n",
       "      <td>3</td>\n",
       "      <td>0.993348</td>\n",
       "      <td>0.006652</td>\n",
       "      <td>0.0</td>\n",
       "      <td>0.0</td>\n",
       "      <td>0.0</td>\n",
       "    </tr>\n",
       "    <tr>\n",
       "      <td>4</td>\n",
       "      <td>0.992397</td>\n",
       "      <td>0.007603</td>\n",
       "      <td>0.0</td>\n",
       "      <td>0.0</td>\n",
       "      <td>0.0</td>\n",
       "    </tr>\n",
       "  </tbody>\n",
       "</table>\n",
       "</div>"
      ],
      "text/plain": [
       "      susceptible  infected  sick  recovered  dead\n",
       "time                                              \n",
       "0        0.999287  0.000713   0.0        0.0   0.0\n",
       "1        0.997624  0.002376   0.0        0.0   0.0\n",
       "2        0.995011  0.004989   0.0        0.0   0.0\n",
       "3        0.993348  0.006652   0.0        0.0   0.0\n",
       "4        0.992397  0.007603   0.0        0.0   0.0"
      ]
     },
     "execution_count": 11,
     "metadata": {},
     "output_type": "execute_result"
    }
   ],
   "source": [
    "df_vis = df.copy()\n",
    "df_vis = df_vis.drop([\"walls\"], axis=1)\n",
    "df_vis = df_vis.divide(population)\n",
    "df_vis.head()"
   ]
  },
  {
   "cell_type": "code",
   "execution_count": 15,
   "metadata": {
    "colab": {
     "base_uri": "https://localhost:8080/",
     "height": 444
    },
    "colab_type": "code",
    "executionInfo": {
     "elapsed": 558,
     "status": "ok",
     "timestamp": 1587157371415,
     "user": {
      "displayName": "Kevin Henares Vilaboa",
      "photoUrl": "",
      "userId": "08205634922900729001"
     },
     "user_tz": 240
    },
    "id": "yRM4ikFU8tWd",
    "outputId": "af2be716-5ebf-47ba-f23d-0e5e2c7928ba"
   },
   "outputs": [
    {
     "data": {
      "image/png": "[encoded data removed]",
      "text/plain": [
       "<Figure size 864x504 with 1 Axes>"
      ]
     },
     "metadata": {
      "needs_background": "light"
     },
     "output_type": "display_data"
    }
   ],
   "source": [
    "col_names = [\"infected\", \"sick\", \"recovered\", \"dead\"]\n",
    "x = list(df_vis.index)\n",
    "y = np.vstack([df_vis[col] for col in col_names])\n",
    "\n",
    "fig, ax = plt.subplots(figsize=(12,7))\n",
    "ax.stackplot(x, y, labels=col_names)\n",
    "plt.legend(loc='upper right')\n",
    "plt.margins(0,0)\n",
    "plt.title('Epidemic percetanges (store model)')\n",
    "plt.show()"
   ]
  },
  {
   "cell_type": "code",
   "execution_count": 16,
   "metadata": {
    "colab": {
     "base_uri": "https://localhost:8080/",
     "height": 444
    },
    "colab_type": "code",
    "executionInfo": {
     "elapsed": 641,
     "status": "ok",
     "timestamp": 1587157481717,
     "user": {
      "displayName": "Kevin Henares Vilaboa",
      "photoUrl": "",
      "userId": "08205634922900729001"
     },
     "user_tz": 240
    },
    "id": "OfCKWAsY43Rl",
    "outputId": "43dec986-2afe-4057-adf6-00edac84a8ea"
   },
   "outputs": [
    {
     "data": {
      "image/png": "[encoded data removed]",
      "text/plain": [
       "<Figure size 864x504 with 1 Axes>"
      ]
     },
     "metadata": {
      "needs_background": "light"
     },
     "output_type": "display_data"
    }
   ],
   "source": [
    "col_names = [\"infected+sick\", \"recovered\"]\n",
    "x = list(df_vis.index)\n",
    "y = np.vstack([df_vis[\"infected\"]+df_vis[\"sick\"], df_vis[\"recovered\"]])\n",
    "\n",
    "fig, ax = plt.subplots(figsize=(12,7))\n",
    "ax.stackplot(x, y, labels=col_names)\n",
    "plt.legend(loc='upper right')\n",
    "plt.margins(0,0)\n",
    "plt.title('Epidemic percetanges (store model)')\n",
    "plt.show()\n",
    "\n",
    "#plt.stackplot(list(df_vis.index),  df_vis[\"infected\"]+df_vis[\"sick\"], df_vis[\"recovered\"], labels=col_names)\n"
   ]
  },
  {
   "cell_type": "code",
   "execution_count": 0,
   "metadata": {
    "colab": {},
    "colab_type": "code",
    "id": "OhoptHkLzUzA"
   },
   "outputs": [],
   "source": []
  }
 ],
 "metadata": {
  "colab": {
   "authorship_tag": "ABX9TyPKToubLSs613cwCNnTTmZC",
   "collapsed_sections": [],
   "name": "epidemic_plots_from_cd_log.ipynb",
   "provenance": []
  },
  "kernelspec": {
   "display_name": "Python3.7",
   "language": "python",
   "name": "python3.7"
  },
  "language_info": {
   "codemirror_mode": {
    "name": "ipython",
    "version": 3
   },
   "file_extension": ".py",
   "mimetype": "text/x-python",
   "name": "python",
   "nbconvert_exporter": "python",
   "pygments_lexer": "ipython3",
   "version": "3.7.4"
  }
 },
 "nbformat": 4,
 "nbformat_minor": 1
}
