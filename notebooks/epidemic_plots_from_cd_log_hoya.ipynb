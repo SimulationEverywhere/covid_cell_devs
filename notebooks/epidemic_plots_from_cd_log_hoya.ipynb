{
 "cells": [
  {
   "cell_type": "code",
   "execution_count": 1,
   "metadata": {},
   "outputs": [],
   "source": [
    "import os\n",
    "import re\n",
    "from collections import defaultdict"
   ]
  },
  {
   "cell_type": "code",
   "execution_count": 2,
   "metadata": {},
   "outputs": [],
   "source": [
    "log_filename = \"SIR_Hoya.log\"\n",
    "dim = 50,50\n",
    "patt_out_line = \".*Y / (?P<time>[0-9]{2}:[0-9]{2}:[0-9]{2}:[0-9]{3})(?::0)? / [a-zA-Z0-9]+\\((?P<x>[0-9]+),(?P<y>[0-9]+)\\)\\([0-9]+\\) / out_(?P<state>infec|rec|sus) / +(?P<perc>[0-9.-]+) (?:/|para) [a-zA-Z0-9]+\\([0-9]+\\)\""
   ]
  },
  {
   "cell_type": "code",
   "execution_count": 3,
   "metadata": {},
   "outputs": [],
   "source": [
    "COLOR_SUSCEPTIBLE = \"#3498db\"\n",
    "COLOR_INFECTED = \"#e74c3c\"\n",
    "COLOR_RECOVERED = \"#2ecc71\""
   ]
  },
  {
   "cell_type": "code",
   "execution_count": 4,
   "metadata": {},
   "outputs": [],
   "source": [
    "def time_str_to_ts(time_str):\n",
    "  patt_time = \"([0-9]{2}):([0-9]{2}):([0-9]{2}):([0-9]{3})\"\n",
    "  match = re.match(patt_time, time_str)\n",
    "  if not match:\n",
    "    raise RuntimeError(\"Error converting simulation time\")\n",
    "  tu = list(map(int, match.groups()))\n",
    "  return tu[3] + tu[2]*1000 + tu[1]*60000 + tu[0]*3600000\n",
    "\n",
    "def curr_states_to_df_row(sim_time, curr_states):\n",
    "    sus_acc = 0\n",
    "    inf_acc = 0\n",
    "    rec_acc = 0\n",
    "    for i in range(len(curr_states)):\n",
    "        for j in range(len(curr_states[0])):\n",
    "            sus, inf, rec = curr_states[i][j]\n",
    "            sus_acc += sus\n",
    "            inf_acc += inf\n",
    "            rec_acc += rec\n",
    "            \n",
    "    num_cells = len(curr_states) * len(curr_states[0])\n",
    "    sus_acc /= num_cells\n",
    "    inf_acc /= num_cells\n",
    "    rec_acc /= num_cells\n",
    "    \n",
    "    #print(curr_time, sus_acc + inf_acc + rec_acc)\n",
    "    assert 0.999 <= sus_acc + inf_acc + rec_acc < 1.001\n",
    "    \n",
    "    return [time_str_to_ts(sim_time)-1, sus_acc, inf_acc, rec_acc]"
   ]
  },
  {
   "cell_type": "code",
   "execution_count": 5,
   "metadata": {},
   "outputs": [],
   "source": [
    "curr_time = None\n",
    "curr_states = []\n",
    "\n",
    "for _ in range(dim[0]):\n",
    "    curr_states.append([])\n",
    "    for _ in range(dim[1]):\n",
    "        curr_states[-1].append([100, 0, 0])"
   ]
  },
  {
   "cell_type": "code",
   "execution_count": 6,
   "metadata": {},
   "outputs": [],
   "source": [
    "states = [\"sus\", \"infec\", \"rec\"]\n",
    "data = []\n",
    "\n",
    "with open(log_filename, \"r\") as log_file:\n",
    "  for line in log_file:\n",
    "    line = line.strip()\n",
    "    match = re.match(patt_out_line, line)\n",
    "    if not match:\n",
    "      continue\n",
    "    if curr_time is None:\n",
    "      curr_time = match.group(\"time\")\n",
    "    elif curr_time != match.group(\"time\"):\n",
    "      #print(\"Changed to \" + match.group(\"time\"))\n",
    "\n",
    "      #row = [time_str_to_ts(curr_time)] + dict_to_states_row(dict(state_count.items()))\n",
    "      if curr_time != \"00:00:00:000\":\n",
    "          data.append(curr_states_to_df_row(curr_time, curr_states))\n",
    "      #print(\"Changing from %s to %s\" % (curr_time, match.group(\"time\")))\n",
    "      \n",
    "      curr_time = match.group(\"time\")\n",
    "\n",
    "    x = int(match.group(\"x\"))\n",
    "    y = int(match.group(\"y\"))\n",
    "    \n",
    "    perc = float(match.group(\"perc\"))\n",
    "    curr_states[x][y][states.index(match.group(\"state\"))] = perc \n",
    "    \n",
    "  data.append(curr_states_to_df_row(curr_time, curr_states))\n"
   ]
  },
  {
   "cell_type": "code",
   "execution_count": null,
   "metadata": {},
   "outputs": [],
   "source": []
  },
  {
   "cell_type": "markdown",
   "metadata": {},
   "source": [
    "### Visualization"
   ]
  },
  {
   "cell_type": "code",
   "execution_count": 7,
   "metadata": {},
   "outputs": [],
   "source": [
    "import pandas as pd\n",
    "import numpy as np\n",
    "import matplotlib.pyplot as plt"
   ]
  },
  {
   "cell_type": "code",
   "execution_count": 8,
   "metadata": {},
   "outputs": [
    {
     "data": {
      "text/html": [
       "<div>\n",
       "<style scoped>\n",
       "    .dataframe tbody tr th:only-of-type {\n",
       "        vertical-align: middle;\n",
       "    }\n",
       "\n",
       "    .dataframe tbody tr th {\n",
       "        vertical-align: top;\n",
       "    }\n",
       "\n",
       "    .dataframe thead th {\n",
       "        text-align: right;\n",
       "    }\n",
       "</style>\n",
       "<table border=\"1\" class=\"dataframe\">\n",
       "  <thead>\n",
       "    <tr style=\"text-align: right;\">\n",
       "      <th></th>\n",
       "      <th>susceptible</th>\n",
       "      <th>infected</th>\n",
       "      <th>recovered</th>\n",
       "    </tr>\n",
       "    <tr>\n",
       "      <th>time</th>\n",
       "      <th></th>\n",
       "      <th></th>\n",
       "      <th></th>\n",
       "    </tr>\n",
       "  </thead>\n",
       "  <tbody>\n",
       "    <tr>\n",
       "      <td>0</td>\n",
       "      <td>0.999720</td>\n",
       "      <td>0.000280</td>\n",
       "      <td>0.000000</td>\n",
       "    </tr>\n",
       "    <tr>\n",
       "      <td>1</td>\n",
       "      <td>0.999640</td>\n",
       "      <td>0.000248</td>\n",
       "      <td>0.000112</td>\n",
       "    </tr>\n",
       "    <tr>\n",
       "      <td>2</td>\n",
       "      <td>0.999556</td>\n",
       "      <td>0.000248</td>\n",
       "      <td>0.000196</td>\n",
       "    </tr>\n",
       "    <tr>\n",
       "      <td>3</td>\n",
       "      <td>0.999476</td>\n",
       "      <td>0.000240</td>\n",
       "      <td>0.000284</td>\n",
       "    </tr>\n",
       "    <tr>\n",
       "      <td>4</td>\n",
       "      <td>0.999348</td>\n",
       "      <td>0.000288</td>\n",
       "      <td>0.000364</td>\n",
       "    </tr>\n",
       "    <tr>\n",
       "      <td>...</td>\n",
       "      <td>...</td>\n",
       "      <td>...</td>\n",
       "      <td>...</td>\n",
       "    </tr>\n",
       "    <tr>\n",
       "      <td>75</td>\n",
       "      <td>0.053448</td>\n",
       "      <td>0.000376</td>\n",
       "      <td>0.946176</td>\n",
       "    </tr>\n",
       "    <tr>\n",
       "      <td>76</td>\n",
       "      <td>0.053544</td>\n",
       "      <td>0.000184</td>\n",
       "      <td>0.946272</td>\n",
       "    </tr>\n",
       "    <tr>\n",
       "      <td>77</td>\n",
       "      <td>0.053628</td>\n",
       "      <td>0.000060</td>\n",
       "      <td>0.946312</td>\n",
       "    </tr>\n",
       "    <tr>\n",
       "      <td>78</td>\n",
       "      <td>0.053664</td>\n",
       "      <td>0.000020</td>\n",
       "      <td>0.946316</td>\n",
       "    </tr>\n",
       "    <tr>\n",
       "      <td>79</td>\n",
       "      <td>0.053684</td>\n",
       "      <td>0.000000</td>\n",
       "      <td>0.946316</td>\n",
       "    </tr>\n",
       "  </tbody>\n",
       "</table>\n",
       "<p>80 rows × 3 columns</p>\n",
       "</div>"
      ],
      "text/plain": [
       "      susceptible  infected  recovered\n",
       "time                                  \n",
       "0        0.999720  0.000280   0.000000\n",
       "1        0.999640  0.000248   0.000112\n",
       "2        0.999556  0.000248   0.000196\n",
       "3        0.999476  0.000240   0.000284\n",
       "4        0.999348  0.000288   0.000364\n",
       "...           ...       ...        ...\n",
       "75       0.053448  0.000376   0.946176\n",
       "76       0.053544  0.000184   0.946272\n",
       "77       0.053628  0.000060   0.946312\n",
       "78       0.053664  0.000020   0.946316\n",
       "79       0.053684  0.000000   0.946316\n",
       "\n",
       "[80 rows x 3 columns]"
      ]
     },
     "execution_count": 8,
     "metadata": {},
     "output_type": "execute_result"
    }
   ],
   "source": [
    "columns = [\"time\", \"susceptible\", \"infected\", \"recovered\"]\n",
    "df_vis = pd.DataFrame(data, columns=columns)\n",
    "df_vis = df_vis.set_index(\"time\")\n",
    "df_vis.to_csv(\"states.csv\")\n",
    "df_vis.head(100)"
   ]
  },
  {
   "cell_type": "code",
   "execution_count": 13,
   "metadata": {},
   "outputs": [
    {
     "data": {
      "image/png": "[encoded data removed]",
      "text/plain": [
       "<Figure size 864x504 with 1 Axes>"
      ]
     },
     "metadata": {
      "needs_background": "light"
     },
     "output_type": "display_data"
    }
   ],
   "source": [
    "base_name = os.path.splitext(os.path.basename(log_filename))[0]\n",
    "\n",
    "col_names = [\"infected\", \"recovered\"]\n",
    "colors=[COLOR_INFECTED, COLOR_RECOVERED]\n",
    "\n",
    "x = list(df_vis.index)\n",
    "y = np.vstack([df_vis[col] for col in col_names])\n",
    "\n",
    "fig, ax = plt.subplots(figsize=(12,7))\n",
    "ax.stackplot(x, y, labels=col_names, colors=colors)\n",
    "plt.legend(loc='upper right')\n",
    "plt.margins(0,0)\n",
    "#plt.title('Epidemic percentages (%s)' % base_name)\n",
    "#plt.show()\n",
    "plt.xlabel(\"Time (days)\")\n",
    "plt.ylabel(\"Population (%)\")\n",
    "plt.savefig(base_name + \"_area.pdf\")"
   ]
  },
  {
   "cell_type": "code",
   "execution_count": 14,
   "metadata": {},
   "outputs": [
    {
     "data": {
      "image/png": "[encoded data removed]",
      "text/plain": [
       "<Figure size 864x504 with 1 Axes>"
      ]
     },
     "metadata": {
      "needs_background": "light"
     },
     "output_type": "display_data"
    }
   ],
   "source": [
    "fig, ax = plt.subplots(figsize=(12,7))\n",
    "linewidth = 2\n",
    "\n",
    "x = list(df_vis.index)\n",
    "ax.plot(x, df_vis[\"susceptible\"], label=\"susceptible\", color=COLOR_SUSCEPTIBLE, linewidth=linewidth)\n",
    "ax.plot(x, df_vis[\"infected\"], label=\"infected\", color=COLOR_INFECTED, linewidth=linewidth)\n",
    "ax.plot(x, df_vis[\"recovered\"], label=\"recovered\", color=COLOR_RECOVERED, linewidth=linewidth)\n",
    "plt.legend(loc='upper right')\n",
    "plt.margins(0,0)\n",
    "#plt.title('Epidemic percentages (%s)' % base_name)\n",
    "plt.xlabel(\"Time (days)\")\n",
    "plt.ylabel(\"Population (%)\")\n",
    "plt.savefig(base_name + \"_lines.pdf\")"
   ]
  },
  {
   "cell_type": "code",
   "execution_count": null,
   "metadata": {},
   "outputs": [],
   "source": []
  },
  {
   "cell_type": "code",
   "execution_count": null,
   "metadata": {},
   "outputs": [],
   "source": []
  },
  {
   "cell_type": "code",
   "execution_count": null,
   "metadata": {},
   "outputs": [],
   "source": []
  },
  {
   "cell_type": "code",
   "execution_count": null,
   "metadata": {},
   "outputs": [],
   "source": []
  }
 ],
 "metadata": {
  "kernelspec": {
   "display_name": "Python3.7",
   "language": "python",
   "name": "python3.7"
  },
  "language_info": {
   "codemirror_mode": {
    "name": "ipython",
    "version": 3
   },
   "file_extension": ".py",
   "mimetype": "text/x-python",
   "name": "python",
   "nbconvert_exporter": "python",
   "pygments_lexer": "ipython3",
   "version": "3.7.4"
  }
 },
 "nbformat": 4,
 "nbformat_minor": 2
}
